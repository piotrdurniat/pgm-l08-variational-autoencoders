{
 "cells": [
  {
   "cell_type": "markdown",
   "id": "42e06d42",
   "metadata": {},
   "source": [
    "Przed oddaniem zadania upewnij się, że wszystko działa poprawnie.\n",
    "**Uruchom ponownie kernel** (z paska menu: Kernel$\\rightarrow$Restart) a następnie\n",
    "**wykonaj wszystkie komórki** (z paska menu: Cell$\\rightarrow$Run All).\n",
    "\n",
    "Upewnij się, że wypełniłeś wszystkie pola `TU WPISZ KOD` lub `TU WPISZ ODPOWIEDŹ`, oraz\n",
    "że podałeś swoje imię i nazwisko poniżej:"
   ]
  },
  {
   "cell_type": "code",
   "execution_count": null,
   "id": "834a74c7",
   "metadata": {},
   "outputs": [],
   "source": [
    "NAME = \"\""
   ]
  },
  {
   "cell_type": "markdown",
   "id": "4e425e07",
   "metadata": {},
   "source": [
    "---"
   ]
  },
  {
   "attachments": {
    "image-2.png": {
     "image/png": "[encoded data removed]"
    },
    "image.png": {
     "image/png": "[encoded data removed]"
    }
   },
   "cell_type": "markdown",
   "id": "60280988",
   "metadata": {},
   "source": [
    "# Autokodery wariacyjne (*Variational Autoencoders*)\n",
    "\n",
    "## Autokoder\n",
    "**Autokoder** (ang. *autoencoder*) to model trenowany w zadaniu rekonstruowania wejścia. Zazwyczaj składa się z dwóch sieci neuronowych:\n",
    "\n",
    "* **kodera** (funkcji $f(\\mathbf{x})$ - kodującego wejście do postaci ukrytej (*latent*) $\\mathbf{h} = f(\\mathbf{x})$,\n",
    "* **dekodera** (funkcji $g(\\mathbf{h})$ - rekonstruującego wejście $\\mathbf{r} = g(\\mathbf{h})$.\n",
    "\n",
    "Innymi słowy, autokoder jest modelem mapującym wejście $\\mathbf{x}$ na wyjście $\\mathbf{r}$ poprzez jego wewnętrzną, ukrytą reprezentację $\\mathbf{h}$.\n",
    "\n",
    "![image.png](attachment:image.png)\n",
    "\n",
    "Głównym celem trenowania modelu jest znalezienie najlepszej pary koder-dekoder, która zachowuje maksimum informacji podczas kodowania, co daje najmniejszy **błąd rekonstrukcji** $\\mathcal{L}$:\n",
    "\n",
    "$$(f^*, g^*) = \\arg\\min\\mathcal{L}(\\mathbf{x}, g(f(\\mathbf{x}))).$$\n",
    "\n",
    "W przypadku autokoderów często używaną funkcją kosztu jest błąd średniokwadratowy.\n",
    "\n",
    "Klasyczne autokodery używane są w zwykle w celu redukcji wymiarowości lub wstępnego uczenia cech do modelu. Ze względu na brak wykorzystania etykiet, modele te są trenowane w sposób nienadzorowany.\n",
    "\n",
    "## Autokoder wariacyjny\n",
    "\n",
    "Wykorzystanie wyłącznie błędu rekonstrukcji jako funkcji celu w klasycznych autokoderach wymusza na modelu uczenie się skompresowanej reprezentacji danych, jednak często może prowadzić do jego przetrenowania, przez co jego zdolności generatywne są ograniczone (głównie ze względu na nieregularną przestrzeń ukrytą).\n",
    "\n",
    "Rozwiązaniem pozwalającym na wyuczenie się reprezentacji o wyższej jakości są **autokodery wariacyjne** (ang. *variational autoencoders*). Jest to model generatywny, gdzie zamiast uczenia funkcji kodera mapującej wejście do przestrzeni ukrytej będziemy próbowali uczyć się nieznanego rozkładu danych $p_{\\theta^*}(\\mathbf{z})$.\n",
    "\n",
    "![image-2.png](attachment:image-2.png)\n",
    "\n",
    "Skupmy się na modelu generatywnym $p_\\theta(\\mathbf{z})p_\\theta(\\mathbf{x} | \\mathbf{z})$, oznaczonym liniami ciągłymi. Zakładamy, że przykłady ze zbioru danych $\\mathbf{X} = \\left\\{x^{(i)}\\right\\}_{i=1}^N$, składającego się z $N$ niezależnych i pochodzących z tego samego rozkładu przykładów, generowane są przez proces losowy, w którym występuje nieobserwowana, ciągła zmienna losowa $\\mathbf{z}$. Proces ten składa się z dwóch kroków:\n",
    "\n",
    "1. wektor ukryty $\\mathbf{z}^{(i)}$ generowany jest z rozkładu a priori $p_{\\theta^*}(\\mathbf{z})$,\n",
    "2. obserwacja $\\mathbf{x}^{(i)}$ jest generowana z rozkładu warunkowego $p_{\\theta^*}(\\mathbf{x} | \\mathbf{z})$.\n",
    "\n",
    "Zakładamy tutaj, że rozkłady $p_{\\theta^*}(\\mathbf{z})$ oraz $p_{\\theta^*}(\\mathbf{x} | \\mathbf{z})$ należą do rodzin rozkładów $p_{\\theta}(\\mathbf{z})$ oraz $p_{\\theta}(\\mathbf{x} | \\mathbf{z})$, parametryzowanych przez $\\theta$; zakładamy że ich funkcje gęstości są różniczkowalne względem $\\theta$ i $\\mathbf{z}$. Zależność $\\mathbf{x}^{(i)}$ od $\\mathbf{z}^{(i)}$ będziemy modelować przy użyciu sieci neuronowej o parametrach $\\theta$.\n",
    "\n",
    "Parametry te moglibyśmy znaleźć maksymalizując likelihood:\n",
    "\n",
    "$$p(\\mathbf{x}) = \\int p_\\theta(\\mathbf{x} | \\mathbf{z})p(\\mathbf{z})d\\mathbf{z}.$$\n",
    "\n",
    "Nie jest to jednak możliwe, ze względu na całkowanie po wszystkich wartościach priora. Wprowadzimy zatem model **probabilistycznego kodera** $q_\\phi(\\mathbf{z} | \\mathbf{x})$ (oznaczony linią przerywaną) - aproksymację prawdziwego posteriora $p_\\theta(\\mathbf{z} | \\mathbf{x})$ - rozkład wariacyjny, najczęściej normalny. Będziemy go modelować przy użyciu sieci neuronowej o parametrach $\\phi$. W tym kontekście, model generatywny $p_{\\theta^*}(\\mathbf{x} | \\mathbf{z})$ możemy traktować jako **probabilistyczny dekoder**.\n",
    "\n",
    "Możemy zatem sformułować naszą funkcję celu w następujący sposób:\n",
    "\n",
    "$$\n",
    "\\begin{align}\n",
    "    \\log p_\\theta\\left(\\mathbf{x}\\right) & = \\mathbb{E}_{\\mathbf{z} \\sim q_\\phi\\left(\\mathbf{z} | \\mathbf{x}\\right)} \\left[\\log p_\\theta\\left(\\mathbf{x}\\right)\\right] & \\text{$p_\\theta\\left(\\mathbf{x}\\right)$ jest niezależne od $\\mathbf{z}$}\\\\\n",
    "    & = \\mathbb{E}_{\\mathbf{z}}\\left[\\log\\frac{p_\\theta\\left(\\mathbf{x} | \\mathbf{z}\\right)p\\left(\\mathbf{z}\\right)}{p\\left(\\mathbf{z} | \\mathbf{x}\\right)}\\right] & \\text{Reguła Bayesa}\\\\\n",
    "    & = \\mathbb{E}_{\\mathbf{z}}\\left[\\log\\frac{p_\\theta\\left(\\mathbf{x} | \\mathbf{z}\\right)p\\left(\\mathbf{z}\\right)}{p\\left(\\mathbf{z} | \\mathbf{x}\\right)}\\frac{q_\\phi\\left(\\mathbf{z} | \\mathbf{x}\\right)}{q_\\phi\\left(\\mathbf{z} | \\mathbf{x}\\right)}\\right] & \\text{pomnożyć przez 1}\\\\\n",
    "    & = \\mathbb{E}_{\\mathbf{z}}\\left[\\log p_\\theta\\left(\\mathbf{x} | \\mathbf{z}\\right)\\right] - \\mathbb{E}_{\\mathbf{z}}\\left[\\log \\frac{q_\\phi\\left(\\mathbf{z} | \\mathbf{x}\\right)}{p\\left(\\mathbf{z}\\right)}\\right] + \\mathbb{E}_{\\mathbf{z}}\\left[\\log \\frac{q_\\phi\\left(\\mathbf{z} | \\mathbf{x}\\right)}{p\\left(\\mathbf{z} | \\mathbf{x}\\right)}\\right] & \\text{logarytm}\\\\\n",
    "    & = \\underbrace{\\mathbb{E}_{\\mathbf{z}}\\left[\\log p_\\theta\\left(\\mathbf{x} | \\mathbf{z}\\right)\\right] - D_{KL}\\left(q_\\phi\\left(\\mathbf{z} | \\mathbf{x}\\right)\\| p\\left(\\mathbf{z}\\right)\\right)}_{\\mathcal{L}\\left(\\mathbf{x}, \\theta, \\phi\\right)} + \\underbrace{D_{KL}\\left(q_\\phi\\left(\\mathbf{z} | \\mathbf{x}\\right)\\| p\\left(\\mathbf{z} | \\mathbf{x}\\right)\\right)}_{\\ge 0}\\\\\n",
    "\\end{align}\n",
    "$$\n",
    "\n",
    "Dywergencji Kulbacka-Leiblera między prawdziwym posteriorem i jego aproksymacją nie możemy aproksymować wprost, wiemy jednak że jest zawsze większa lub równa zero. Z tą wiedzą możemy przekształcić to równanie do postaci nierówności i uzyskać funkcję kosztu ELBO:\n",
    "\n",
    "$$\\\\log p_\\theta \\left(\\mathbf{x}\\right) \\ge \\underbrace{\\mathbb{E}_{\\mathbf{z}}\\left[\\log p_\\theta\\left(\\mathbf{x} | \\mathbf{z}\\right)\\right]}_{\\text{błąd rekonstrukcji}} - \\underbrace{D_{KL}\\left(q_\\phi\\left(\\mathbf{z} | \\mathbf{x}\\right)\\| p\\left(\\mathbf{z}\\right)\\right)}_{\\text{regularyzacja aproksymacji posteriora}} = \\mathcal{L}\\left(\\mathbf{x}, \\theta, \\phi\\right).$$\n",
    "\n",
    "Musimy zatem jeszcze przyjąć rozkład prior - najczęściej przyjmuje się rozkład standardowy $\\mathcal{N}(0, 1)$.\n",
    "\n",
    "Model ten uczony będzie metodą Maximum Likelihood Estimation:\n",
    "\n",
    "$$\\theta^*, \\phi^* = \\underset{\\theta, \\phi}{\\arg\\max} \\sum_{i=1}^N \\mathcal{L}\\left(x_i, \\theta, \\phi\\right).$$\n"
   ]
  },
  {
   "cell_type": "markdown",
   "id": "cef69871",
   "metadata": {},
   "source": [
    "Zaczniemy od implementacji klasycznego autokodera z wykorzystaniem biblioteki PyTorch. Będziemy się opierać na klasie bazowej `BaseAutoencoder`, której metody należy zaimplementować aby możliwe było wykorzystanie przygotowanych analiz.\n"
   ]
  },
  {
   "cell_type": "code",
   "execution_count": null,
   "id": "2e8dd1b4",
   "metadata": {},
   "outputs": [],
   "source": [
    "from typing import Tuple\n",
    "\n",
    "import matplotlib.pyplot as plt\n",
    "import numpy as np\n",
    "import pyro\n",
    "import pyro.distributions as dist\n",
    "import torch\n",
    "import torch.nn as nn\n",
    "from IPython.display import Code, display\n",
    "from torch.utils.data import DataLoader\n",
    "from torchvision.datasets import MNIST\n",
    "from torchvision.transforms import ToTensor\n",
    "from tqdm.notebook import tqdm\n",
    "\n",
    "from src.ae import BaseAutoEncoder\n",
    "from src.utils import train_ae, AutoEncoderAnalyzer\n",
    "\n",
    "\n",
    "np.random.seed(2021)\n",
    "torch.manual_seed(2021)\n",
    "\n",
    "display(Code(filename=\"src/ae.py\"))\n"
   ]
  },
  {
   "cell_type": "markdown",
   "id": "6067d617",
   "metadata": {},
   "source": [
    "Tworzymy model kodera i dekodera: oba zawierają po jednej warstwie ukrytej oraz odpowiednie funkcje aktywacji."
   ]
  },
  {
   "cell_type": "code",
   "execution_count": null,
   "id": "a6acc5ee",
   "metadata": {},
   "outputs": [],
   "source": [
    "class Encoder(nn.Module):\n",
    "    \"\"\"Encoder module; function h.\"\"\"\n",
    "\n",
    "    def __init__(\n",
    "        self,\n",
    "        n_input_features: int,\n",
    "        n_hidden_neurons: int,\n",
    "        n_latent_features: int,\n",
    "    ):\n",
    "        \"\"\"\n",
    "        :param n_input_features: number of input features (28 x 28 = 784 for MNIST)\n",
    "        :param n_hidden_neurons: number of neurons in hidden FC layer\n",
    "        :param n_latent_features: size of the latent vector\n",
    "        \"\"\"\n",
    "        super().__init__()\n",
    "\n",
    "        self.input_to_hidden = nn.Linear(n_input_features, n_hidden_neurons)\n",
    "        self.hidden_to_latent = nn.Linear(n_hidden_neurons, n_latent_features)\n",
    "\n",
    "    def forward(self, x: torch.Tensor) -> torch.Tensor:\n",
    "        \"\"\"Encoder forward function.\"\"\"\n",
    "        h = self.input_to_hidden(x)\n",
    "        h = nn.functional.relu(h)\n",
    "        h = self.hidden_to_latent(h)\n",
    "        return h\n",
    "\n",
    "\n",
    "class Decoder(nn.Module):\n",
    "    \"\"\"Decoder module; function g.\"\"\"\n",
    "\n",
    "    def __init__(\n",
    "        self,\n",
    "        n_latent_features: int,\n",
    "        n_hidden_neurons: int,\n",
    "        n_output_features: int,\n",
    "    ):\n",
    "        \"\"\"\n",
    "        :param n_latent_features: number of latent features (same as in Encoder)\n",
    "        :param n_hidden_neurons: number of neurons in hidden FC layer\n",
    "        :param n_output_features: size of the output vector (28 x 28 = 784 for MNIST)\n",
    "        \"\"\"\n",
    "        super().__init__()\n",
    "\n",
    "        self.latent_to_hidden = nn.Linear(n_latent_features, n_hidden_neurons)\n",
    "        self.hidden_to_output = nn.Linear(n_hidden_neurons, n_output_features)\n",
    "\n",
    "    def forward(self, h: torch.Tensor) -> torch.Tensor:\n",
    "        \"\"\"Decoder forward function.\"\"\"\n",
    "        r = self.latent_to_hidden(h)\n",
    "        r = nn.functional.relu(r)\n",
    "        r = self.hidden_to_output(r)\n",
    "        r = torch.sigmoid(r)\n",
    "        return r\n"
   ]
  },
  {
   "cell_type": "markdown",
   "id": "bb32e77f",
   "metadata": {},
   "source": [
    "Modele te wykorzystujemy do zaimplementowania Autokodera; implementujemy metody `encoder_forward` oraz `decoder_forward`, które służą do tworzenia ukrytej reprezentacji oraz rekonstruowania na jej podstawie obrazu wejściowego.\n"
   ]
  },
  {
   "cell_type": "code",
   "execution_count": null,
   "id": "a0090fb4",
   "metadata": {},
   "outputs": [],
   "source": [
    "class Autoencoder(BaseAutoEncoder):\n",
    "    \"\"\"Auto encoder module.\"\"\"\n",
    "\n",
    "    def __init__(\n",
    "        self,\n",
    "        n_data_features: int,\n",
    "        n_encoder_hidden_features: int,\n",
    "        n_decoder_hidden_features: int,\n",
    "        n_latent_features: int,\n",
    "    ):\n",
    "        \"\"\"\n",
    "        :param n_data_features: number of input and output features (28 x 28 = 784 for MNIST)\n",
    "        :param n_encoder_hidden_features: number of neurons in encoder's hidden layer\n",
    "        :param n_decoder_hidden_features: number of neurons in decoder's hidden layer\n",
    "        :param n_latent_features: number of latent features\n",
    "        \"\"\"\n",
    "        encoder = Encoder(\n",
    "            n_input_features=n_data_features,\n",
    "            n_hidden_neurons=n_encoder_hidden_features,\n",
    "            n_latent_features=n_latent_features,\n",
    "        )\n",
    "        decoder = Decoder(\n",
    "            n_latent_features=n_latent_features,\n",
    "            n_hidden_neurons=n_decoder_hidden_features,\n",
    "            n_output_features=n_data_features,\n",
    "        )\n",
    "        super().__init__(\n",
    "            encoder=encoder, decoder=decoder, n_latent_features=n_latent_features\n",
    "        )\n",
    "        self.input_shape = None\n",
    "\n",
    "    def encoder_forward(self, x: torch.Tensor) -> torch.Tensor:\n",
    "        \"\"\"Function to perform forward pass through encoder network.\"\"\"\n",
    "        if self.input_shape is None:\n",
    "            self.input_shape = x.shape[1:]\n",
    "        x = x.view(x.shape[0], -1)\n",
    "        return self.encoder(x)\n",
    "\n",
    "    def decoder_forward(self, x: torch.Tensor) -> torch.Tensor:\n",
    "        \"\"\"Function to perform forward pass through decoder network.\"\"\"\n",
    "        return self.decoder(x).view(-1, *self.input_shape)\n"
   ]
  },
  {
   "cell_type": "markdown",
   "id": "5b73e3b8",
   "metadata": {},
   "source": [
    "W zadaniu ponownie wykorzystamy zbiór MNIST, zawierający odręcznie zapisane cyfry w formie obrazów o rozdzielczości $28\\times28$, z wartościami w przedziale $[0, 255]$ (funkcja `ToTensor()` przetransformuje je do zakresu $[0, 1]$). Zbiór treningowy ograniczamy do 10000 przykładów.\n"
   ]
  },
  {
   "cell_type": "code",
   "execution_count": null,
   "id": "dbbfc980",
   "metadata": {},
   "outputs": [],
   "source": [
    "train_dataset = MNIST(root=\"data\", download=True, train=True, transform=ToTensor())\n",
    "val_dataset = MNIST(root=\"data\", download=True, train=False, transform=ToTensor())\n",
    "\n",
    "# limiting the dataset\n",
    "indices = np.random.permutation(len(train_dataset.data))[:10_000]\n",
    "train_dataset.data = train_dataset.data[indices]\n",
    "train_dataset.targets = train_dataset.targets[indices]\n"
   ]
  },
  {
   "cell_type": "markdown",
   "id": "13d7d302",
   "metadata": {},
   "source": [
    "Definiujemy model wraz z arbitralnie dobranymi hiperparametrami oraz funkcję kosztu (MSE). Następnie wywołujemy przygotowaną pętlę uczenia w celu wytrenowania modelu. Parametry dobrane tutaj powinny spowodować przetrenowanie autokodera.\n"
   ]
  },
  {
   "cell_type": "code",
   "execution_count": null,
   "id": "ec379e49",
   "metadata": {},
   "outputs": [],
   "source": [
    "batch_size = 32\n",
    "lr = 1e-2\n",
    "epochs = 20\n",
    "\n",
    "ae_model = Autoencoder(\n",
    "    n_data_features=28 * 28,  # MNIST pixels\n",
    "    n_encoder_hidden_features=128,  # chosen arbitrarily\n",
    "    n_decoder_hidden_features=128,  # chosen arbitrarily\n",
    "    n_latent_features=10,  # how many features will be used to represent input\n",
    ")\n",
    "\n",
    "train_dataloader = DataLoader(\n",
    "    train_dataset,\n",
    "    batch_size=batch_size,\n",
    "    shuffle=True,\n",
    "    drop_last=True,\n",
    ")\n",
    "val_loader = DataLoader(\n",
    "    val_dataset, batch_size=batch_size, shuffle=False, drop_last=False\n",
    ")\n",
    "\n",
    "loss_fn = nn.MSELoss()\n",
    "\n",
    "train_ae(\n",
    "    ae_model,\n",
    "    epochs=epochs,\n",
    "    train_loader=train_dataloader,\n",
    "    val_loader=val_loader,\n",
    "    lr=lr,\n",
    "    loss_fn=loss_fn,\n",
    ")\n"
   ]
  },
  {
   "cell_type": "markdown",
   "id": "a2e883f3",
   "metadata": {},
   "source": [
    "Poniżej znajdują się wywołania analiz działania modelu: porównanie rekonstrukcji z obrazami wejściowymi, uśrednione punkty reprezentujące każdą klasę, badanie zdolności generatywnych modelu przez modyfikowanie wektora ukrytego oraz wizualizację przestrzeni ukrytej.\n"
   ]
  },
  {
   "cell_type": "code",
   "execution_count": null,
   "id": "c3a6d23d",
   "metadata": {},
   "outputs": [],
   "source": [
    "analyzer = AutoEncoderAnalyzer(model=ae_model, dataset=val_dataset, n_samplings=1)\n"
   ]
  },
  {
   "cell_type": "code",
   "execution_count": null,
   "id": "a6c33eb1",
   "metadata": {},
   "outputs": [],
   "source": [
    "analyzer.compare_reconstruction_with_original()\n",
    "plt.show()\n"
   ]
  },
  {
   "cell_type": "code",
   "execution_count": null,
   "id": "24973c2f",
   "metadata": {},
   "outputs": [],
   "source": [
    "analyzer.average_points_per_class()\n",
    "plt.show()\n"
   ]
  },
  {
   "cell_type": "code",
   "execution_count": null,
   "id": "17e5ef71",
   "metadata": {},
   "outputs": [],
   "source": [
    "for digit, latent_code in enumerate(analyzer._averages):\n",
    "    print(f\"Digit: {digit}\")\n",
    "    analyzer.analyze_features(latent_code, steps=11)\n",
    "    plt.show()\n"
   ]
  },
  {
   "cell_type": "code",
   "execution_count": null,
   "id": "8cde641d",
   "metadata": {},
   "outputs": [],
   "source": [
    "analyzer.analyze_tsne()  # this may take quite a long time\n",
    "plt.show()\n"
   ]
  },
  {
   "cell_type": "markdown",
   "id": "52e226d2",
   "metadata": {},
   "source": [
    "Do wytrenowania modelu VAE wykorzystamy bibliotekę Pyro. Funkcja ta dostarcza gotową implementację funkcji kosztu ELBO oraz metody SVI wykorzystywanej do trenowania modelu. Detale implementacyjne znajdują się w przygotowanej funkcji `train_ae`, którą wykorzystywaliśmy też wcześniej do trenowania modelu autokodera. Pyro wymaga od nas przygotowania funkcji `model` oraz `guide`. Pierwszy z nich ma definiować model generatywny $p_\\theta(\\mathbf{x} | \\mathbf{z})p_\\theta(\\mathbf{z})$, drugi natomiast odpowiada za definicję aproksymacji posteriora $q_\\phi(\\mathbf{z} | \\mathbf{x})$. Z nimi możemy wykorzystać klasę `Trace_ELBO`, która posłuży jako funkcja kosztu. Zachęcamy do zapoznania się z [dokumentacją](https://pyro.ai/examples/svi_part_i.html), gdzie znajduje się więcej informacji na temat `model`u oraz `guide`'a w bibliotece Pyro.\n",
    "\n",
    "# Zadanie 1a (1.5 pkt.)\n",
    "\n",
    "Wzorując się na implementacji klasycznego autokodera, zaimplementuj model autokodera wariacyjnego:\n",
    "\n",
    "1. Przygotuj lub wykorzystaj już przygotowane implementacje kodera oraz dekodera:\n",
    "    * Zadaniem kodera jest przetworzenie wejścia (obrazu) do parametrów rozkładu (w przypadku rozkładu normalnego: średniej i wariancji). Najczęściej parametry te tworzy się w ostatniej warstwie, używając wspólnych wcześniejszych warstw. Zwróć uwagę na zastosowanie odpowiednich funkcji aktywacji: tak, aby nie ograniczać niepotrzebnie zakresu wartości, ale również by nie uzyskać wartości nieprawidłowych.\n",
    "    * Zadaniem dekodera jest przetworzenie ukrytej reprezentacji (próbki z rozkładu) w celu wygenerowania rekonstrukcji. Zakładamy, że próbkowanie odbywa się **poza** dekoderem. Zastosuj odpowiednią funkcję aktywacji na wyjściu, tak aby uzyskać wartości o odpowiednim zakresie.\n",
    "2. Zaimplementuj klasę `VariationalAutoencoder`:\n",
    "    * Zaimplementuj metodę `encoder_forward`, która dla danego wejścia wygeneruje jego ukrytą reprezentację. Wykorzystaj parametry rozkładu generowane przez koder oraz wykonaj w tej funkcji próbkowanie.\n",
    "    * Zaimplementuj metodę `decoder_forward`, która dla danej ukrytej reprezentacji (wypróbkowanej z rozkładu) wygeneruje jego rekonstrukcję.\n",
    "\n",
    "Zwróć uwagę, że w analizach doszło porównanie kilku próbek z rozkładu ukrytego modelu.\n"
   ]
  },
  {
   "cell_type": "markdown",
   "id": "2edaf137",
   "metadata": {
    "deletable": false,
    "editable": false,
    "nbgrader": {
     "cell_type": "markdown",
     "checksum": "0290e8e8893797e6fdd4f1c98c60d442",
     "grade": false,
     "grade_id": "vae-research",
     "locked": true,
     "points": 1.5,
     "schema_version": 3,
     "solution": false,
     "task": true
    }
   },
   "source": [
    "# Zadanie 1b (1.5 pkt.)\n",
    "\n",
    "Zbadaj wpływ hiperparametrów modelu wariacyjnego autokodera (akie jak liczba neuronów w warstwach ukrytych, rozmiar ukrytej reprezentacji, współczynnik uczenia, itp.) na proces jego trenowania (szybkość, zdolność do wytrenowania, szybkość zbiegania itd.), uzyskiwane rezultaty oraz zdolności generatywne i właściwości przestrzeni ukrytej. Wykorzystaj przygotowaną klasę `AutoEncoderAnalyzer`. Zapisz wnioski w komórce Markdown.\n"
   ]
  },
  {
   "cell_type": "code",
   "execution_count": null,
   "id": "70174f0f",
   "metadata": {
    "deletable": false,
    "nbgrader": {
     "cell_type": "code",
     "checksum": "a32152286f788c8696f1646c7ce6eabf",
     "grade": true,
     "grade_id": "vae-implementation",
     "locked": false,
     "points": 1.5,
     "schema_version": 3,
     "solution": true,
     "task": false
    }
   },
   "outputs": [],
   "source": [
    "class VEncoder(nn.Module):\n",
    "    \"\"\"Encoder for VAE.\"\"\"\n",
    "\n",
    "    def __init__(\n",
    "        self,\n",
    "        n_input_features: int,\n",
    "        n_hidden_neurons: int,\n",
    "        n_latent_features: int,\n",
    "    ):\n",
    "        \"\"\"\n",
    "        :param n_input_features: number of input features (28 x 28 = 784 for MNIST)\n",
    "        :param n_hidden_neurons: number of neurons in hidden FC layer\n",
    "        :param n_latent_features: size of the latent vector\n",
    "        \"\"\"\n",
    "        super().__init__()\n",
    "\n",
    "        # TU WPISZ KOD\n",
    "        raise NotImplementedError()\n",
    "\n",
    "    def forward(self, x: torch.Tensor) -> Tuple[torch.Tensor, torch.Tensor]:\n",
    "        \"\"\"Encode data to gaussian distribution params.\"\"\"\n",
    "        z_loc = None\n",
    "        z_scale = None\n",
    "        # TU WPISZ KOD\n",
    "        raise NotImplementedError()\n",
    "        return z_loc, z_scale\n",
    "    \n",
    "\n",
    "class VDecoder(nn.Module):\n",
    "    \"\"\"Decoder for VAE.\"\"\"\n",
    "\n",
    "    def __init__(\n",
    "        self,\n",
    "        n_latent_features: int, \n",
    "        n_hidden_neurons: int, \n",
    "        n_output_features: int,\n",
    "    ):\n",
    "        \"\"\"\n",
    "        :param n_latent_features: number of latent features (same as in Encoder)\n",
    "        :param n_hidden_neurons: number of neurons in hidden FC layer\n",
    "        :param n_output_features: size of the output vector (28 x 28 = 784 for MNIST)\n",
    "        \"\"\"\n",
    "        super().__init__()\n",
    "\n",
    "        # TU WPISZ KOD\n",
    "        raise NotImplementedError()\n",
    "\n",
    "    def forward(self, z: torch.Tensor) -> torch.Tensor:\n",
    "        \"\"\"Decode latent vector to image.\"\"\"\n",
    "        r = None\n",
    "        # TU WPISZ KOD\n",
    "        raise NotImplementedError()\n",
    "        return r\n",
    "\n",
    "\n",
    "class VariationalAutoencoder(BaseAutoEncoder):\n",
    "    \"\"\"Variational Auto Encoder model.\"\"\"\n",
    "\n",
    "    def __init__(\n",
    "        self,\n",
    "        n_data_features: int,\n",
    "        n_encoder_hidden_features: int,\n",
    "        n_decoder_hidden_features: int,\n",
    "        n_latent_features: int,\n",
    "    ):\n",
    "        \"\"\"\n",
    "        :param n_data_features: number of input and output features (28 x 28 = 784 for MNIST)\n",
    "        :param n_encoder_hidden_features: number of neurons in encoder's hidden layer\n",
    "        :param n_decoder_hidden_features: number of neurons in decoder's hidden layer\n",
    "        :param n_latent_features: number of latent features\n",
    "        \"\"\"\n",
    "        encoder = VEncoder(\n",
    "            n_input_features=n_data_features,\n",
    "            n_hidden_neurons=n_encoder_hidden_features,\n",
    "            n_latent_features=n_latent_features,\n",
    "        )\n",
    "        decoder = VDecoder(\n",
    "            n_latent_features=n_latent_features,\n",
    "            n_hidden_neurons=n_decoder_hidden_features,\n",
    "            n_output_features=n_data_features,\n",
    "        )\n",
    "        super().__init__(\n",
    "            encoder=encoder, decoder=decoder, n_latent_features=n_latent_features\n",
    "        )\n",
    "        self.input_shape = None\n",
    "\n",
    "    def encoder_forward(self, x: torch.Tensor) -> torch.Tensor:\n",
    "        \"\"\"Function to perform forward pass through encoder network.\n",
    "        takes: tensor of shape [batch_size x [image-size]] (input images batch)\n",
    "        returns: tensor of shape [batch_size x latent_feature_size] (latent vector)\n",
    "        \"\"\"\n",
    "        z = None\n",
    "        if self.input_shape is None:\n",
    "            self.input_shape = x.shape[1:]\n",
    "        x = x.view(x.shape[0], -1)\n",
    "        # TU WPISZ KOD\n",
    "        raise NotImplementedError()\n",
    "        return z\n",
    "\n",
    "    def decoder_forward(self, z: torch.Tensor) -> torch.Tensor:\n",
    "        \"\"\"Function to perform forward pass through decoder network.\n",
    "        takes: tensor of shape [batch_size x latent_feature_size] (latent vector)\n",
    "        returns: tensor of shape [batch_size x [image-size]] (reconstructed images batch)\n",
    "        \"\"\"\n",
    "        r = None\n",
    "        # TU WPISZ KOD\n",
    "        raise NotImplementedError()\n",
    "        return r.view(-1, *self.input_shape)\n",
    "\n",
    "    def model(self, x: torch.Tensor):\n",
    "        \"\"\"Pyro model for VAE; p(x|z)p(z).\"\"\"\n",
    "        pyro.module(\"decoder\", self.decoder)\n",
    "        with pyro.plate(\"data\", x.shape[0]):\n",
    "            z_loc = torch.zeros((x.shape[0], self.n_latent_features))\n",
    "            z_scale = torch.ones((x.shape[0], self.n_latent_features))\n",
    "            z = pyro.sample(\"latent\", dist.Normal(z_loc, z_scale).to_event(1))\n",
    "            output = self.decoder.forward(z).view(-1, *self.input_shape)\n",
    "            pyro.sample(\"obs\", dist.Bernoulli(output).to_event(3), obs=x)\n",
    "\n",
    "    def guide(self, x: torch.Tensor):\n",
    "        \"\"\"Pyro guide for VAE; q(z|x)\"\"\"\n",
    "        pyro.module(\"encoder\", self.encoder)\n",
    "        with pyro.plate(\"data\", x.shape[0]):\n",
    "            z_loc, z_scale = self.encoder.forward(x.view(x.shape[0], -1))\n",
    "            pyro.sample(\"latent\", dist.Normal(z_loc, z_scale).to_event(1))\n"
   ]
  },
  {
   "cell_type": "code",
   "execution_count": null,
   "id": "6d118001",
   "metadata": {},
   "outputs": [],
   "source": [
    "batch_size = 32\n",
    "lr = 1e-3\n",
    "epochs = 20\n",
    "\n",
    "vae_model = VariationalAutoencoder(\n",
    "    n_data_features=28 * 28,  # MNIST pixels\n",
    "    n_encoder_hidden_features=128,  # chosen arbitrarily\n",
    "    n_decoder_hidden_features=128,  # chosen arbitrarily\n",
    "    n_latent_features=10,  # how many features will be used to represent input\n",
    ")\n",
    "\n",
    "train_dataloader = DataLoader(\n",
    "    train_dataset,\n",
    "    batch_size=batch_size,\n",
    "    shuffle=True,\n",
    "    drop_last=True,\n",
    ")\n",
    "val_loader = DataLoader(\n",
    "    val_dataset, batch_size=batch_size, shuffle=False, drop_last=False\n",
    ")\n",
    "\n",
    "loss_fn = pyro.infer.Trace_ELBO().differentiable_loss\n",
    "loss_fn_args = (vae_model.model, vae_model.guide)\n",
    "\n",
    "train_ae(\n",
    "    vae_model,\n",
    "    epochs=epochs,\n",
    "    train_loader=train_dataloader,\n",
    "    val_loader=val_loader,\n",
    "    lr=lr,\n",
    "    loss_fn=loss_fn,\n",
    "    loss_fn_args=loss_fn_args,\n",
    ")\n"
   ]
  },
  {
   "cell_type": "code",
   "execution_count": null,
   "id": "49fe53e5",
   "metadata": {},
   "outputs": [],
   "source": [
    "analyzer = AutoEncoderAnalyzer(model=vae_model, dataset=val_dataset, n_samplings=5)\n"
   ]
  },
  {
   "cell_type": "code",
   "execution_count": null,
   "id": "e3e14665",
   "metadata": {},
   "outputs": [],
   "source": [
    "analyzer.compare_reconstruction_with_original()\n",
    "plt.show()\n"
   ]
  },
  {
   "cell_type": "code",
   "execution_count": null,
   "id": "c99b998c",
   "metadata": {},
   "outputs": [],
   "source": [
    "analyzer.compare_samplings()\n",
    "plt.show()\n"
   ]
  },
  {
   "cell_type": "code",
   "execution_count": null,
   "id": "90392b04",
   "metadata": {},
   "outputs": [],
   "source": [
    "analyzer.average_points_per_class()\n",
    "plt.show()\n"
   ]
  },
  {
   "cell_type": "code",
   "execution_count": null,
   "id": "d4468b10",
   "metadata": {},
   "outputs": [],
   "source": [
    "for digit, latent_code in enumerate(analyzer._averages):\n",
    "    print(f\"Digit: {digit}\")\n",
    "    analyzer.analyze_features(latent_code, steps=11)\n",
    "    plt.show()\n"
   ]
  },
  {
   "cell_type": "code",
   "execution_count": null,
   "id": "7dcb8a68",
   "metadata": {},
   "outputs": [],
   "source": [
    "analyzer.analyze_tsne()  # this may take quite a long time\n",
    "plt.show()\n"
   ]
  },
  {
   "cell_type": "markdown",
   "id": "b93ca6ed",
   "metadata": {},
   "source": [
    "# Zadanie 2 (2 pkt.)\n",
    "\n",
    "Metody uczenia reprezentacji, do których można zaliczyć autokoder wariacyjny, są często sprawdzane pod względem możliwości ich zastosowania w tzw. *downstream tasks*, czyli prostych zadaniach mających na celu weryfikację jakości utworzonej reprezentacji danych. Polegają one np. na wytrenowaniu modelu do jakiegoś zadania nie na danych, ale na ich reprezentacji, wytworzonej przez model uczenia reprezentacji. W tym przypadku tym zadaniem będzie klasyfikacja cyfr.\n",
    "\n",
    "Wybierz dowolny klasyfikator (ważne: klasyfikator ten powinien osiągać **słabe** rezultaty dla zbioru MNIST). Zbadaj, jakie wartości metryk osiąga on przy zastosowaniu wprost na danych ze zbioru MNIST; sprawdź także ile czasu zajmuje trenowanie klasyfikatora oraz wnioskowanie.\n",
    "\n",
    "Następnie zastosuj ten sam klasyfikator na ukrytych reprezentacjach wytworzonych przez oba modele autokodera: `Autoencoder` oraz `VariationalAutoencoder`, wytrenowane wcześniej (odpowiednio `ae_model` oraz `vae_model`). Przetwórz cały zbiór treningowy i walidacyjny z użyciem kodera w celu uzyskania ukrytych reprezentacji przykładów, a następnie wykorzystaj je do wytrenowania prostego klasyfikatora. Porównaj uzyskane metryki oraz szybkość działania.\n"
   ]
  },
  {
   "cell_type": "code",
   "execution_count": null,
   "id": "e03476e7",
   "metadata": {
    "deletable": false,
    "nbgrader": {
     "cell_type": "code",
     "checksum": "c088d0c44f5a2ae18b0819489a895c04",
     "grade": true,
     "grade_id": "downstream-implementation",
     "locked": false,
     "points": 2,
     "schema_version": 3,
     "solution": true,
     "task": false
    }
   },
   "outputs": [],
   "source": [
    "X_train, y_train = zip(*train_dataset)\n",
    "X_train = torch.stack(X_train)\n",
    "X_val, y_val = zip(*val_dataset)\n",
    "X_val = torch.stack(X_val)\n",
    "\n",
    "\n",
    "# TU WPISZ KOD\n",
    "raise NotImplementedError()\n"
   ]
  },
  {
   "cell_type": "markdown",
   "id": "53bd5bb3",
   "metadata": {},
   "source": [
    "# Zadanie 3 (dodatkowe) (2 pkt.)\n",
    "\n",
    "Jednym z fundamentalnych celów uczenia reprezentacji jest dążenie do uzyskania rozłącznych cech (co oznacza, że zmiana pojedynczego elementu wektora ukrytego spowoduje zmianę tylko jednej cechy obrazu wyjściowego). Poprzednie modele nie są w stanie uzyskać tego rezultatu - zmiana pojedynczego elementu wektora wpływa zazwyczaj na więcej niż jedną cechę obrazu wyjściowego.\n",
    "\n",
    "Jedno z rozwiązań pozwalające na uzyskanie rozłącznych cech jest $\\beta$-VAE. Zaproponowana modyfikacja polega na wprowadzeniu współczynnika regularyzacji $\\beta$ do funkcji kosztu, dzięki któremu możemy regulować wpływ regularyzacji aproksymacji posteriora na rezultaty trenowania:\n",
    "\n",
    "$$\\log p_\\theta \\left(\\mathbf{x}\\right) \\ge  \\mathcal{L}\\left(\\mathbf{x}, \\theta, \\phi, \\beta\\right) = \\underbrace{\\mathbb{E}_{\\mathbf{z}}\\left[\\log p_\\theta\\left(\\mathbf{x} | \\mathbf{z}\\right)\\right]}_{\\text{błąd rekonstrukcji}} - \\overbrace{\\beta}^{\\text{współczynnik regularyzacji}}\\underbrace{\\left(D_{KL}\\left(q_\\phi\\left(\\mathbf{z} | \\mathbf{x}\\right)\\| p\\left(\\mathbf{z}\\right)\\right)\\right)}_{\\text{regularyzacja aproksymacji posteriora}}.$$\n",
    "\n",
    "Publikacja: [link](https://openreview.net/references/pdf?id=Sy2fzU9gl)\n",
    "\n",
    "Zadanie polega na implementacji modelu $\\beta$-VAE. Wykorzystaj jak najwięcej komponentów klasy `VariationalAutoencoder`. Podpowiedź: należy zmodyfikować `model` oraz `guide`, wykorzystując narzędzia modyfikujące obliczanie score'ów (*effect handlers*) w Pyro: [Poutine](https://docs.pyro.ai/en/stable/poutine.html).  Przeanalizuj model z użyciem `AutoEncoderAnalyzer` - w szczególności pod względem uzyskiwanej reprezentacji ukrytej, zdolności generatywnych oraz wpływu zmian współczynnika $\\beta$.\n"
   ]
  },
  {
   "cell_type": "code",
   "execution_count": null,
   "id": "9fd5ab53",
   "metadata": {
    "deletable": false,
    "nbgrader": {
     "cell_type": "code",
     "checksum": "53318e6a7ea12729de4752b48e8fa897",
     "grade": true,
     "grade_id": "beta-vae",
     "locked": false,
     "points": 0,
     "schema_version": 3,
     "solution": true,
     "task": false
    }
   },
   "outputs": [],
   "source": [
    "class BetaVariationalAutoencoder(VariationalAutoencoder):\n",
    "    \"\"\"beta-Variational Auto Encoder model.\"\"\"\n",
    "    \n",
    "    # TU WPISZ KOD\n",
    "    raise NotImplementedError()\n"
   ]
  },
  {
   "cell_type": "code",
   "execution_count": null,
   "id": "8e1b1cc7",
   "metadata": {},
   "outputs": [],
   "source": [
    "batch_size = 32\n",
    "lr = 1e-3\n",
    "epochs = 20\n",
    "\n",
    "bvae_model = BetaVariationalAutoencoder(\n",
    "    n_data_features=28 * 28,  # MNIST pixels\n",
    "    n_encoder_hidden_features=128,  # chosen arbitrarily\n",
    "    n_decoder_hidden_features=128,  # chosen arbitrarily\n",
    "    n_latent_features=10,  # how many features will be used to represent input\n",
    "    beta=3.  # should limit the number of valuable features\n",
    ")\n",
    "\n",
    "train_dataloader = DataLoader(\n",
    "    train_dataset,\n",
    "    batch_size=batch_size,\n",
    "    shuffle=True,\n",
    "    drop_last=True,\n",
    ")\n",
    "val_loader = DataLoader(\n",
    "    val_dataset, batch_size=batch_size, shuffle=False, drop_last=False\n",
    ")\n",
    "\n",
    "loss_fn = pyro.infer.Trace_ELBO().differentiable_loss\n",
    "loss_fn_args = (bvae_model.model, bvae_model.guide)\n",
    "\n",
    "train_ae(\n",
    "    bvae_model,\n",
    "    epochs=epochs,\n",
    "    train_loader=train_dataloader,\n",
    "    val_loader=val_loader,\n",
    "    lr=lr,\n",
    "    loss_fn=loss_fn,\n",
    "    loss_fn_args=loss_fn_args,\n",
    ")\n"
   ]
  },
  {
   "cell_type": "code",
   "execution_count": null,
   "id": "0ff1d881",
   "metadata": {},
   "outputs": [],
   "source": [
    "analyzer = AutoEncoderAnalyzer(model=bvae_model, dataset=val_dataset, n_samplings=5)\n"
   ]
  },
  {
   "cell_type": "code",
   "execution_count": null,
   "id": "eda7e120",
   "metadata": {},
   "outputs": [],
   "source": [
    "analyzer.compare_reconstruction_with_original()\n",
    "plt.show()\n"
   ]
  },
  {
   "cell_type": "code",
   "execution_count": null,
   "id": "9f5a12d7",
   "metadata": {},
   "outputs": [],
   "source": [
    "analyzer.compare_samplings()\n",
    "plt.show()\n"
   ]
  },
  {
   "cell_type": "code",
   "execution_count": null,
   "id": "9d79dcc2",
   "metadata": {},
   "outputs": [],
   "source": [
    "analyzer.average_points_per_class()\n",
    "plt.show()\n"
   ]
  },
  {
   "cell_type": "code",
   "execution_count": null,
   "id": "a6151d69",
   "metadata": {},
   "outputs": [],
   "source": [
    "for digit, latent_code in enumerate(analyzer._averages):\n",
    "    print(f\"Digit: {digit}\")\n",
    "    analyzer.analyze_features(latent_code, steps=11)\n",
    "    plt.show()\n"
   ]
  },
  {
   "cell_type": "code",
   "execution_count": null,
   "id": "88865d59",
   "metadata": {},
   "outputs": [],
   "source": [
    "analyzer.analyze_tsne()  # this may take quite a long time\n",
    "plt.show()\n"
   ]
  }
 ],
 "metadata": {
  "kernelspec": {
   "display_name": "Python 3",
   "language": "python",
   "name": "python3"
  },
  "language_info": {
   "codemirror_mode": {
    "name": "ipython",
    "version": 3
   },
   "file_extension": ".py",
   "mimetype": "text/x-python",
   "name": "python",
   "nbconvert_exporter": "python",
   "pygments_lexer": "ipython3",
   "version": "3.8.8"
  }
 },
 "nbformat": 4,
 "nbformat_minor": 5
}
